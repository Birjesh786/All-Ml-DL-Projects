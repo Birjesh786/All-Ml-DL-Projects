{
  "nbformat": 4,
  "nbformat_minor": 0,
  "metadata": {
    "colab": {
      "provenance": [],
      "gpuType": "T4",
      "authorship_tag": "ABX9TyPhDp3oKLxUuaYlpgNWZlhX",
      "include_colab_link": true
    },
    "kernelspec": {
      "name": "python3",
      "display_name": "Python 3"
    },
    "language_info": {
      "name": "python"
    },
    "accelerator": "GPU"
  },
  "cells": [
    {
      "cell_type": "markdown",
      "metadata": {
        "id": "view-in-github",
        "colab_type": "text"
      },
      "source": [
        "<a href=\"https://colab.research.google.com/github/Birjesh786/Machine-Learning-Models/blob/main/Language_Detection.ipynb\" target=\"_parent\"><img src=\"https://colab.research.google.com/assets/colab-badge.svg\" alt=\"Open In Colab\"/></a>"
      ]
    },
    {
      "cell_type": "markdown",
      "source": [
        "# **Language Detection Model**\n",
        "![png-clipart-translation-interpreting-language-interpretation-english-chinese-visa-application-text-service.png](data:image/png;base64,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)"
      ],
      "metadata": {
        "id": "5ltv9cDsOcoW"
      }
    },
    {
      "cell_type": "markdown",
      "source": [
        "### Install requirments libraries"
      ],
      "metadata": {
        "id": "6uDRUXjkJvUf"
      }
    },
    {
      "cell_type": "code",
      "source": [
        "import pandas as pd\n",
        "from sklearn.pipeline import Pipeline\n",
        "from sklearn.model_selection import cross_val_score\n",
        "from sklearn.feature_extraction.text import TfidfVectorizer\n",
        "from sklearn.naive_bayes import MultinomialNB"
      ],
      "metadata": {
        "id": "8oRAcH19v4oY"
      },
      "execution_count": 3,
      "outputs": []
    },
    {
      "cell_type": "markdown",
      "source": [
        "## Load dataset"
      ],
      "metadata": {
        "id": "paIPoLrRJ56s"
      }
    },
    {
      "cell_type": "code",
      "source": [
        "# Load the language detection dataset\n",
        "lan_data = pd.read_csv(\"Language Detection.csv\")\n",
        "\n",
        "lan_data"
      ],
      "metadata": {
        "colab": {
          "base_uri": "https://localhost:8080/",
          "height": 1423
        },
        "id": "dWhiBnp9v_yV",
        "outputId": "2933ee4e-05b4-413f-a7aa-a14a6088c851"
      },
      "execution_count": 24,
      "outputs": [
        {
          "output_type": "execute_result",
          "data": {
            "text/plain": [
              "                                                    Text Language\n",
              "0       Nature, in the broadest sense, is the natural...  English\n",
              "1      \"Nature\" can refer to the phenomena of the phy...  English\n",
              "2      The study of nature is a large, if not the onl...  English\n",
              "3      Although humans are part of nature, human acti...  English\n",
              "4      [1] The word nature is borrowed from the Old F...  English\n",
              "...                                                  ...      ...\n",
              "10332  ನಿಮ್ಮ ತಪ್ಪು ಏನು ಬಂದಿದೆಯೆಂದರೆ ಆ ದಿನದಿಂದ ನಿಮಗೆ ಒ...  Kannada\n",
              "10333  ನಾರ್ಸಿಸಾ ತಾನು ಮೊದಲಿಗೆ ಹೆಣಗಾಡುತ್ತಿದ್ದ ಮಾರ್ಗಗಳನ್...  Kannada\n",
              "10334  ಹೇಗೆ ' ನಾರ್ಸಿಸಿಸಮ್ ಈಗ ಮರಿಯನ್ ಅವರಿಗೆ ಸಂಭವಿಸಿದ ಎ...  Kannada\n",
              "10335  ಅವಳು ಈಗ ಹೆಚ್ಚು ಚಿನ್ನದ ಬ್ರೆಡ್ ಬಯಸುವುದಿಲ್ಲ ಎಂದು ...  Kannada\n",
              "10336  ಟೆರ್ರಿ ನೀವು ನಿಜವಾಗಿಯೂ ಆ ದೇವದೂತನಂತೆ ಸ್ವಲ್ಪ ಕಾಣು...  Kannada\n",
              "\n",
              "[10337 rows x 2 columns]"
            ],
            "text/html": [
              "\n",
              "  <div id=\"df-e3b5fc44-83e0-4f4b-85e1-3e26f025376e\" class=\"colab-df-container\">\n",
              "    <div>\n",
              "<style scoped>\n",
              "    .dataframe tbody tr th:only-of-type {\n",
              "        vertical-align: middle;\n",
              "    }\n",
              "\n",
              "    .dataframe tbody tr th {\n",
              "        vertical-align: top;\n",
              "    }\n",
              "\n",
              "    .dataframe thead th {\n",
              "        text-align: right;\n",
              "    }\n",
              "</style>\n",
              "<table border=\"1\" class=\"dataframe\">\n",
              "  <thead>\n",
              "    <tr style=\"text-align: right;\">\n",
              "      <th></th>\n",
              "      <th>Text</th>\n",
              "      <th>Language</th>\n",
              "    </tr>\n",
              "  </thead>\n",
              "  <tbody>\n",
              "    <tr>\n",
              "      <th>0</th>\n",
              "      <td>Nature, in the broadest sense, is the natural...</td>\n",
              "      <td>English</td>\n",
              "    </tr>\n",
              "    <tr>\n",
              "      <th>1</th>\n",
              "      <td>\"Nature\" can refer to the phenomena of the phy...</td>\n",
              "      <td>English</td>\n",
              "    </tr>\n",
              "    <tr>\n",
              "      <th>2</th>\n",
              "      <td>The study of nature is a large, if not the onl...</td>\n",
              "      <td>English</td>\n",
              "    </tr>\n",
              "    <tr>\n",
              "      <th>3</th>\n",
              "      <td>Although humans are part of nature, human acti...</td>\n",
              "      <td>English</td>\n",
              "    </tr>\n",
              "    <tr>\n",
              "      <th>4</th>\n",
              "      <td>[1] The word nature is borrowed from the Old F...</td>\n",
              "      <td>English</td>\n",
              "    </tr>\n",
              "    <tr>\n",
              "      <th>...</th>\n",
              "      <td>...</td>\n",
              "      <td>...</td>\n",
              "    </tr>\n",
              "    <tr>\n",
              "      <th>10332</th>\n",
              "      <td>ನಿಮ್ಮ ತಪ್ಪು ಏನು ಬಂದಿದೆಯೆಂದರೆ ಆ ದಿನದಿಂದ ನಿಮಗೆ ಒ...</td>\n",
              "      <td>Kannada</td>\n",
              "    </tr>\n",
              "    <tr>\n",
              "      <th>10333</th>\n",
              "      <td>ನಾರ್ಸಿಸಾ ತಾನು ಮೊದಲಿಗೆ ಹೆಣಗಾಡುತ್ತಿದ್ದ ಮಾರ್ಗಗಳನ್...</td>\n",
              "      <td>Kannada</td>\n",
              "    </tr>\n",
              "    <tr>\n",
              "      <th>10334</th>\n",
              "      <td>ಹೇಗೆ ' ನಾರ್ಸಿಸಿಸಮ್ ಈಗ ಮರಿಯನ್ ಅವರಿಗೆ ಸಂಭವಿಸಿದ ಎ...</td>\n",
              "      <td>Kannada</td>\n",
              "    </tr>\n",
              "    <tr>\n",
              "      <th>10335</th>\n",
              "      <td>ಅವಳು ಈಗ ಹೆಚ್ಚು ಚಿನ್ನದ ಬ್ರೆಡ್ ಬಯಸುವುದಿಲ್ಲ ಎಂದು ...</td>\n",
              "      <td>Kannada</td>\n",
              "    </tr>\n",
              "    <tr>\n",
              "      <th>10336</th>\n",
              "      <td>ಟೆರ್ರಿ ನೀವು ನಿಜವಾಗಿಯೂ ಆ ದೇವದೂತನಂತೆ ಸ್ವಲ್ಪ ಕಾಣು...</td>\n",
              "      <td>Kannada</td>\n",
              "    </tr>\n",
              "  </tbody>\n",
              "</table>\n",
              "<p>10337 rows × 2 columns</p>\n",
              "</div>\n",
              "    <div class=\"colab-df-buttons\">\n",
              "\n",
              "  <div class=\"colab-df-container\">\n",
              "    <button class=\"colab-df-convert\" onclick=\"convertToInteractive('df-e3b5fc44-83e0-4f4b-85e1-3e26f025376e')\"\n",
              "            title=\"Convert this dataframe to an interactive table.\"\n",
              "            style=\"display:none;\">\n",
              "\n",
              "  <svg xmlns=\"http://www.w3.org/2000/svg\" height=\"24px\" viewBox=\"0 -960 960 960\">\n",
              "    <path d=\"M120-120v-720h720v720H120Zm60-500h600v-160H180v160Zm220 220h160v-160H400v160Zm0 220h160v-160H400v160ZM180-400h160v-160H180v160Zm440 0h160v-160H620v160ZM180-180h160v-160H180v160Zm440 0h160v-160H620v160Z\"/>\n",
              "  </svg>\n",
              "    </button>\n",
              "\n",
              "  <style>\n",
              "    .colab-df-container {\n",
              "      display:flex;\n",
              "      gap: 12px;\n",
              "    }\n",
              "\n",
              "    .colab-df-convert {\n",
              "      background-color: #E8F0FE;\n",
              "      border: none;\n",
              "      border-radius: 50%;\n",
              "      cursor: pointer;\n",
              "      display: none;\n",
              "      fill: #1967D2;\n",
              "      height: 32px;\n",
              "      padding: 0 0 0 0;\n",
              "      width: 32px;\n",
              "    }\n",
              "\n",
              "    .colab-df-convert:hover {\n",
              "      background-color: #E2EBFA;\n",
              "      box-shadow: 0px 1px 2px rgba(60, 64, 67, 0.3), 0px 1px 3px 1px rgba(60, 64, 67, 0.15);\n",
              "      fill: #174EA6;\n",
              "    }\n",
              "\n",
              "    .colab-df-buttons div {\n",
              "      margin-bottom: 4px;\n",
              "    }\n",
              "\n",
              "    [theme=dark] .colab-df-convert {\n",
              "      background-color: #3B4455;\n",
              "      fill: #D2E3FC;\n",
              "    }\n",
              "\n",
              "    [theme=dark] .colab-df-convert:hover {\n",
              "      background-color: #434B5C;\n",
              "      box-shadow: 0px 1px 3px 1px rgba(0, 0, 0, 0.15);\n",
              "      filter: drop-shadow(0px 1px 2px rgba(0, 0, 0, 0.3));\n",
              "      fill: #FFFFFF;\n",
              "    }\n",
              "  </style>\n",
              "\n",
              "    <script>\n",
              "      const buttonEl =\n",
              "        document.querySelector('#df-e3b5fc44-83e0-4f4b-85e1-3e26f025376e button.colab-df-convert');\n",
              "      buttonEl.style.display =\n",
              "        google.colab.kernel.accessAllowed ? 'block' : 'none';\n",
              "\n",
              "      async function convertToInteractive(key) {\n",
              "        const element = document.querySelector('#df-e3b5fc44-83e0-4f4b-85e1-3e26f025376e');\n",
              "        const dataTable =\n",
              "          await google.colab.kernel.invokeFunction('convertToInteractive',\n",
              "                                                    [key], {});\n",
              "        if (!dataTable) return;\n",
              "\n",
              "        const docLinkHtml = 'Like what you see? Visit the ' +\n",
              "          '<a target=\"_blank\" href=https://colab.research.google.com/notebooks/data_table.ipynb>data table notebook</a>'\n",
              "          + ' to learn more about interactive tables.';\n",
              "        element.innerHTML = '';\n",
              "        dataTable['output_type'] = 'display_data';\n",
              "        await google.colab.output.renderOutput(dataTable, element);\n",
              "        const docLink = document.createElement('div');\n",
              "        docLink.innerHTML = docLinkHtml;\n",
              "        element.appendChild(docLink);\n",
              "      }\n",
              "    </script>\n",
              "  </div>\n",
              "\n",
              "\n",
              "<div id=\"df-1bf44e35-6f26-4290-8162-fdc5973631bc\">\n",
              "  <button class=\"colab-df-quickchart\" onclick=\"quickchart('df-1bf44e35-6f26-4290-8162-fdc5973631bc')\"\n",
              "            title=\"Suggest charts.\"\n",
              "            style=\"display:none;\">\n",
              "\n",
              "<svg xmlns=\"http://www.w3.org/2000/svg\" height=\"24px\"viewBox=\"0 0 24 24\"\n",
              "     width=\"24px\">\n",
              "    <g>\n",
              "        <path d=\"M19 3H5c-1.1 0-2 .9-2 2v14c0 1.1.9 2 2 2h14c1.1 0 2-.9 2-2V5c0-1.1-.9-2-2-2zM9 17H7v-7h2v7zm4 0h-2V7h2v10zm4 0h-2v-4h2v4z\"/>\n",
              "    </g>\n",
              "</svg>\n",
              "  </button>\n",
              "\n",
              "<style>\n",
              "  .colab-df-quickchart {\n",
              "    background-color: #E8F0FE;\n",
              "    border: none;\n",
              "    border-radius: 50%;\n",
              "    cursor: pointer;\n",
              "    display: none;\n",
              "    fill: #1967D2;\n",
              "    height: 32px;\n",
              "    padding: 0 0 0 0;\n",
              "    width: 32px;\n",
              "  }\n",
              "\n",
              "  .colab-df-quickchart:hover {\n",
              "    background-color: #E2EBFA;\n",
              "    box-shadow: 0px 1px 2px rgba(60, 64, 67, 0.3), 0px 1px 3px 1px rgba(60, 64, 67, 0.15);\n",
              "    fill: #174EA6;\n",
              "  }\n",
              "\n",
              "  [theme=dark] .colab-df-quickchart {\n",
              "    background-color: #3B4455;\n",
              "    fill: #D2E3FC;\n",
              "  }\n",
              "\n",
              "  [theme=dark] .colab-df-quickchart:hover {\n",
              "    background-color: #434B5C;\n",
              "    box-shadow: 0px 1px 3px 1px rgba(0, 0, 0, 0.15);\n",
              "    filter: drop-shadow(0px 1px 2px rgba(0, 0, 0, 0.3));\n",
              "    fill: #FFFFFF;\n",
              "  }\n",
              "</style>\n",
              "\n",
              "  <script>\n",
              "    async function quickchart(key) {\n",
              "      const charts = await google.colab.kernel.invokeFunction(\n",
              "          'suggestCharts', [key], {});\n",
              "    }\n",
              "    (() => {\n",
              "      let quickchartButtonEl =\n",
              "        document.querySelector('#df-1bf44e35-6f26-4290-8162-fdc5973631bc button');\n",
              "      quickchartButtonEl.style.display =\n",
              "        google.colab.kernel.accessAllowed ? 'block' : 'none';\n",
              "    })();\n",
              "  </script>\n",
              "</div>\n",
              "    </div>\n",
              "  </div>\n"
            ]
          },
          "metadata": {},
          "execution_count": 24
        }
      ]
    },
    {
      "cell_type": "markdown",
      "source": [
        "## Show the language our dataset"
      ],
      "metadata": {
        "id": "3CtC6QCxK_1j"
      }
    },
    {
      "cell_type": "code",
      "source": [
        "lan_data['Language'].value_counts()"
      ],
      "metadata": {
        "colab": {
          "base_uri": "https://localhost:8080/"
        },
        "id": "obYzhV_3wwSq",
        "outputId": "44ab5dbb-4d23-42c8-a692-0764a1bb7cb1"
      },
      "execution_count": 23,
      "outputs": [
        {
          "output_type": "execute_result",
          "data": {
            "text/plain": [
              "English       1385\n",
              "French        1014\n",
              "Spanish        819\n",
              "Portugeese     739\n",
              "Italian        698\n",
              "Russian        692\n",
              "Sweedish       676\n",
              "Malayalam      594\n",
              "Dutch          546\n",
              "Arabic         536\n",
              "Turkish        474\n",
              "German         470\n",
              "Tamil          469\n",
              "Danish         428\n",
              "Kannada        369\n",
              "Greek          365\n",
              "Hindi           63\n",
              "Name: Language, dtype: int64"
            ]
          },
          "metadata": {},
          "execution_count": 23
        }
      ]
    },
    {
      "cell_type": "markdown",
      "source": [
        "## Plot the language count"
      ],
      "metadata": {
        "id": "QIuEz1PDLJNZ"
      }
    },
    {
      "cell_type": "code",
      "source": [
        "import plotly.express as px\n",
        "\n",
        "# Get the language value counts\n",
        "language_counts = lan_data['Language'].value_counts()\n",
        "\n",
        "# Create a bar plot using Plotly Express\n",
        "fig = px.bar(language_counts, x=language_counts.index, y=language_counts.values,\n",
        "             color=language_counts.index, labels={'x': 'Language', 'y': 'Count'})\n",
        "\n",
        "# Customize the layout\n",
        "fig.update_layout(title='Language Distribution',\n",
        "                  xaxis_title='Language',\n",
        "                  yaxis_title='Count',\n",
        "                  showlegend=False)\n",
        "\n",
        "# Show the plot\n",
        "fig.show()"
      ],
      "metadata": {
        "colab": {
          "base_uri": "https://localhost:8080/",
          "height": 542
        },
        "id": "Rn8AvWUcwwcC",
        "outputId": "53b0af52-cb6e-49d2-aa77-02f2067f4378"
      },
      "execution_count": 25,
      "outputs": [
        {
          "output_type": "display_data",
          "data": {
            "text/html": [
              "<html>\n",
              "<head><meta charset=\"utf-8\" /></head>\n",
              "<body>\n",
              "    <div>            <script src=\"https://cdnjs.cloudflare.com/ajax/libs/mathjax/2.7.5/MathJax.js?config=TeX-AMS-MML_SVG\"></script><script type=\"text/javascript\">if (window.MathJax && window.MathJax.Hub && window.MathJax.Hub.Config) {window.MathJax.Hub.Config({SVG: {font: \"STIX-Web\"}});}</script>                <script type=\"text/javascript\">window.PlotlyConfig = {MathJaxConfig: 'local'};</script>\n",
              "        <script charset=\"utf-8\" src=\"https://cdn.plot.ly/plotly-2.24.1.min.js\"></script>                <div id=\"b82692b7-bc29-4425-a48c-f26e46ce024a\" class=\"plotly-graph-div\" style=\"height:525px; width:100%;\"></div>            <script type=\"text/javascript\">                                    window.PLOTLYENV=window.PLOTLYENV || {};                                    if (document.getElementById(\"b82692b7-bc29-4425-a48c-f26e46ce024a\")) {                    Plotly.newPlot(                        \"b82692b7-bc29-4425-a48c-f26e46ce024a\",                        [{\"alignmentgroup\":\"True\",\"hovertemplate\":\"index=%{x}\\u003cbr\\u003eCount=%{y}\\u003cextra\\u003e\\u003c\\u002fextra\\u003e\",\"legendgroup\":\"English\",\"marker\":{\"color\":\"#636efa\",\"pattern\":{\"shape\":\"\"}},\"name\":\"English\",\"offsetgroup\":\"English\",\"orientation\":\"v\",\"showlegend\":true,\"textposition\":\"auto\",\"x\":[\"English\"],\"xaxis\":\"x\",\"y\":[1385],\"yaxis\":\"y\",\"type\":\"bar\"},{\"alignmentgroup\":\"True\",\"hovertemplate\":\"index=%{x}\\u003cbr\\u003eCount=%{y}\\u003cextra\\u003e\\u003c\\u002fextra\\u003e\",\"legendgroup\":\"French\",\"marker\":{\"color\":\"#EF553B\",\"pattern\":{\"shape\":\"\"}},\"name\":\"French\",\"offsetgroup\":\"French\",\"orientation\":\"v\",\"showlegend\":true,\"textposition\":\"auto\",\"x\":[\"French\"],\"xaxis\":\"x\",\"y\":[1014],\"yaxis\":\"y\",\"type\":\"bar\"},{\"alignmentgroup\":\"True\",\"hovertemplate\":\"index=%{x}\\u003cbr\\u003eCount=%{y}\\u003cextra\\u003e\\u003c\\u002fextra\\u003e\",\"legendgroup\":\"Spanish\",\"marker\":{\"color\":\"#00cc96\",\"pattern\":{\"shape\":\"\"}},\"name\":\"Spanish\",\"offsetgroup\":\"Spanish\",\"orientation\":\"v\",\"showlegend\":true,\"textposition\":\"auto\",\"x\":[\"Spanish\"],\"xaxis\":\"x\",\"y\":[819],\"yaxis\":\"y\",\"type\":\"bar\"},{\"alignmentgroup\":\"True\",\"hovertemplate\":\"index=%{x}\\u003cbr\\u003eCount=%{y}\\u003cextra\\u003e\\u003c\\u002fextra\\u003e\",\"legendgroup\":\"Portugeese\",\"marker\":{\"color\":\"#ab63fa\",\"pattern\":{\"shape\":\"\"}},\"name\":\"Portugeese\",\"offsetgroup\":\"Portugeese\",\"orientation\":\"v\",\"showlegend\":true,\"textposition\":\"auto\",\"x\":[\"Portugeese\"],\"xaxis\":\"x\",\"y\":[739],\"yaxis\":\"y\",\"type\":\"bar\"},{\"alignmentgroup\":\"True\",\"hovertemplate\":\"index=%{x}\\u003cbr\\u003eCount=%{y}\\u003cextra\\u003e\\u003c\\u002fextra\\u003e\",\"legendgroup\":\"Italian\",\"marker\":{\"color\":\"#FFA15A\",\"pattern\":{\"shape\":\"\"}},\"name\":\"Italian\",\"offsetgroup\":\"Italian\",\"orientation\":\"v\",\"showlegend\":true,\"textposition\":\"auto\",\"x\":[\"Italian\"],\"xaxis\":\"x\",\"y\":[698],\"yaxis\":\"y\",\"type\":\"bar\"},{\"alignmentgroup\":\"True\",\"hovertemplate\":\"index=%{x}\\u003cbr\\u003eCount=%{y}\\u003cextra\\u003e\\u003c\\u002fextra\\u003e\",\"legendgroup\":\"Russian\",\"marker\":{\"color\":\"#19d3f3\",\"pattern\":{\"shape\":\"\"}},\"name\":\"Russian\",\"offsetgroup\":\"Russian\",\"orientation\":\"v\",\"showlegend\":true,\"textposition\":\"auto\",\"x\":[\"Russian\"],\"xaxis\":\"x\",\"y\":[692],\"yaxis\":\"y\",\"type\":\"bar\"},{\"alignmentgroup\":\"True\",\"hovertemplate\":\"index=%{x}\\u003cbr\\u003eCount=%{y}\\u003cextra\\u003e\\u003c\\u002fextra\\u003e\",\"legendgroup\":\"Sweedish\",\"marker\":{\"color\":\"#FF6692\",\"pattern\":{\"shape\":\"\"}},\"name\":\"Sweedish\",\"offsetgroup\":\"Sweedish\",\"orientation\":\"v\",\"showlegend\":true,\"textposition\":\"auto\",\"x\":[\"Sweedish\"],\"xaxis\":\"x\",\"y\":[676],\"yaxis\":\"y\",\"type\":\"bar\"},{\"alignmentgroup\":\"True\",\"hovertemplate\":\"index=%{x}\\u003cbr\\u003eCount=%{y}\\u003cextra\\u003e\\u003c\\u002fextra\\u003e\",\"legendgroup\":\"Malayalam\",\"marker\":{\"color\":\"#B6E880\",\"pattern\":{\"shape\":\"\"}},\"name\":\"Malayalam\",\"offsetgroup\":\"Malayalam\",\"orientation\":\"v\",\"showlegend\":true,\"textposition\":\"auto\",\"x\":[\"Malayalam\"],\"xaxis\":\"x\",\"y\":[594],\"yaxis\":\"y\",\"type\":\"bar\"},{\"alignmentgroup\":\"True\",\"hovertemplate\":\"index=%{x}\\u003cbr\\u003eCount=%{y}\\u003cextra\\u003e\\u003c\\u002fextra\\u003e\",\"legendgroup\":\"Dutch\",\"marker\":{\"color\":\"#FF97FF\",\"pattern\":{\"shape\":\"\"}},\"name\":\"Dutch\",\"offsetgroup\":\"Dutch\",\"orientation\":\"v\",\"showlegend\":true,\"textposition\":\"auto\",\"x\":[\"Dutch\"],\"xaxis\":\"x\",\"y\":[546],\"yaxis\":\"y\",\"type\":\"bar\"},{\"alignmentgroup\":\"True\",\"hovertemplate\":\"index=%{x}\\u003cbr\\u003eCount=%{y}\\u003cextra\\u003e\\u003c\\u002fextra\\u003e\",\"legendgroup\":\"Arabic\",\"marker\":{\"color\":\"#FECB52\",\"pattern\":{\"shape\":\"\"}},\"name\":\"Arabic\",\"offsetgroup\":\"Arabic\",\"orientation\":\"v\",\"showlegend\":true,\"textposition\":\"auto\",\"x\":[\"Arabic\"],\"xaxis\":\"x\",\"y\":[536],\"yaxis\":\"y\",\"type\":\"bar\"},{\"alignmentgroup\":\"True\",\"hovertemplate\":\"index=%{x}\\u003cbr\\u003eCount=%{y}\\u003cextra\\u003e\\u003c\\u002fextra\\u003e\",\"legendgroup\":\"Turkish\",\"marker\":{\"color\":\"#636efa\",\"pattern\":{\"shape\":\"\"}},\"name\":\"Turkish\",\"offsetgroup\":\"Turkish\",\"orientation\":\"v\",\"showlegend\":true,\"textposition\":\"auto\",\"x\":[\"Turkish\"],\"xaxis\":\"x\",\"y\":[474],\"yaxis\":\"y\",\"type\":\"bar\"},{\"alignmentgroup\":\"True\",\"hovertemplate\":\"index=%{x}\\u003cbr\\u003eCount=%{y}\\u003cextra\\u003e\\u003c\\u002fextra\\u003e\",\"legendgroup\":\"German\",\"marker\":{\"color\":\"#EF553B\",\"pattern\":{\"shape\":\"\"}},\"name\":\"German\",\"offsetgroup\":\"German\",\"orientation\":\"v\",\"showlegend\":true,\"textposition\":\"auto\",\"x\":[\"German\"],\"xaxis\":\"x\",\"y\":[470],\"yaxis\":\"y\",\"type\":\"bar\"},{\"alignmentgroup\":\"True\",\"hovertemplate\":\"index=%{x}\\u003cbr\\u003eCount=%{y}\\u003cextra\\u003e\\u003c\\u002fextra\\u003e\",\"legendgroup\":\"Tamil\",\"marker\":{\"color\":\"#00cc96\",\"pattern\":{\"shape\":\"\"}},\"name\":\"Tamil\",\"offsetgroup\":\"Tamil\",\"orientation\":\"v\",\"showlegend\":true,\"textposition\":\"auto\",\"x\":[\"Tamil\"],\"xaxis\":\"x\",\"y\":[469],\"yaxis\":\"y\",\"type\":\"bar\"},{\"alignmentgroup\":\"True\",\"hovertemplate\":\"index=%{x}\\u003cbr\\u003eCount=%{y}\\u003cextra\\u003e\\u003c\\u002fextra\\u003e\",\"legendgroup\":\"Danish\",\"marker\":{\"color\":\"#ab63fa\",\"pattern\":{\"shape\":\"\"}},\"name\":\"Danish\",\"offsetgroup\":\"Danish\",\"orientation\":\"v\",\"showlegend\":true,\"textposition\":\"auto\",\"x\":[\"Danish\"],\"xaxis\":\"x\",\"y\":[428],\"yaxis\":\"y\",\"type\":\"bar\"},{\"alignmentgroup\":\"True\",\"hovertemplate\":\"index=%{x}\\u003cbr\\u003eCount=%{y}\\u003cextra\\u003e\\u003c\\u002fextra\\u003e\",\"legendgroup\":\"Kannada\",\"marker\":{\"color\":\"#FFA15A\",\"pattern\":{\"shape\":\"\"}},\"name\":\"Kannada\",\"offsetgroup\":\"Kannada\",\"orientation\":\"v\",\"showlegend\":true,\"textposition\":\"auto\",\"x\":[\"Kannada\"],\"xaxis\":\"x\",\"y\":[369],\"yaxis\":\"y\",\"type\":\"bar\"},{\"alignmentgroup\":\"True\",\"hovertemplate\":\"index=%{x}\\u003cbr\\u003eCount=%{y}\\u003cextra\\u003e\\u003c\\u002fextra\\u003e\",\"legendgroup\":\"Greek\",\"marker\":{\"color\":\"#19d3f3\",\"pattern\":{\"shape\":\"\"}},\"name\":\"Greek\",\"offsetgroup\":\"Greek\",\"orientation\":\"v\",\"showlegend\":true,\"textposition\":\"auto\",\"x\":[\"Greek\"],\"xaxis\":\"x\",\"y\":[365],\"yaxis\":\"y\",\"type\":\"bar\"},{\"alignmentgroup\":\"True\",\"hovertemplate\":\"index=%{x}\\u003cbr\\u003eCount=%{y}\\u003cextra\\u003e\\u003c\\u002fextra\\u003e\",\"legendgroup\":\"Hindi\",\"marker\":{\"color\":\"#FF6692\",\"pattern\":{\"shape\":\"\"}},\"name\":\"Hindi\",\"offsetgroup\":\"Hindi\",\"orientation\":\"v\",\"showlegend\":true,\"textposition\":\"auto\",\"x\":[\"Hindi\"],\"xaxis\":\"x\",\"y\":[63],\"yaxis\":\"y\",\"type\":\"bar\"}],                        {\"template\":{\"data\":{\"histogram2dcontour\":[{\"type\":\"histogram2dcontour\",\"colorbar\":{\"outlinewidth\":0,\"ticks\":\"\"},\"colorscale\":[[0.0,\"#0d0887\"],[0.1111111111111111,\"#46039f\"],[0.2222222222222222,\"#7201a8\"],[0.3333333333333333,\"#9c179e\"],[0.4444444444444444,\"#bd3786\"],[0.5555555555555556,\"#d8576b\"],[0.6666666666666666,\"#ed7953\"],[0.7777777777777778,\"#fb9f3a\"],[0.8888888888888888,\"#fdca26\"],[1.0,\"#f0f921\"]]}],\"choropleth\":[{\"type\":\"choropleth\",\"colorbar\":{\"outlinewidth\":0,\"ticks\":\"\"}}],\"histogram2d\":[{\"type\":\"histogram2d\",\"colorbar\":{\"outlinewidth\":0,\"ticks\":\"\"},\"colorscale\":[[0.0,\"#0d0887\"],[0.1111111111111111,\"#46039f\"],[0.2222222222222222,\"#7201a8\"],[0.3333333333333333,\"#9c179e\"],[0.4444444444444444,\"#bd3786\"],[0.5555555555555556,\"#d8576b\"],[0.6666666666666666,\"#ed7953\"],[0.7777777777777778,\"#fb9f3a\"],[0.8888888888888888,\"#fdca26\"],[1.0,\"#f0f921\"]]}],\"heatmap\":[{\"type\":\"heatmap\",\"colorbar\":{\"outlinewidth\":0,\"ticks\":\"\"},\"colorscale\":[[0.0,\"#0d0887\"],[0.1111111111111111,\"#46039f\"],[0.2222222222222222,\"#7201a8\"],[0.3333333333333333,\"#9c179e\"],[0.4444444444444444,\"#bd3786\"],[0.5555555555555556,\"#d8576b\"],[0.6666666666666666,\"#ed7953\"],[0.7777777777777778,\"#fb9f3a\"],[0.8888888888888888,\"#fdca26\"],[1.0,\"#f0f921\"]]}],\"heatmapgl\":[{\"type\":\"heatmapgl\",\"colorbar\":{\"outlinewidth\":0,\"ticks\":\"\"},\"colorscale\":[[0.0,\"#0d0887\"],[0.1111111111111111,\"#46039f\"],[0.2222222222222222,\"#7201a8\"],[0.3333333333333333,\"#9c179e\"],[0.4444444444444444,\"#bd3786\"],[0.5555555555555556,\"#d8576b\"],[0.6666666666666666,\"#ed7953\"],[0.7777777777777778,\"#fb9f3a\"],[0.8888888888888888,\"#fdca26\"],[1.0,\"#f0f921\"]]}],\"contourcarpet\":[{\"type\":\"contourcarpet\",\"colorbar\":{\"outlinewidth\":0,\"ticks\":\"\"}}],\"contour\":[{\"type\":\"contour\",\"colorbar\":{\"outlinewidth\":0,\"ticks\":\"\"},\"colorscale\":[[0.0,\"#0d0887\"],[0.1111111111111111,\"#46039f\"],[0.2222222222222222,\"#7201a8\"],[0.3333333333333333,\"#9c179e\"],[0.4444444444444444,\"#bd3786\"],[0.5555555555555556,\"#d8576b\"],[0.6666666666666666,\"#ed7953\"],[0.7777777777777778,\"#fb9f3a\"],[0.8888888888888888,\"#fdca26\"],[1.0,\"#f0f921\"]]}],\"surface\":[{\"type\":\"surface\",\"colorbar\":{\"outlinewidth\":0,\"ticks\":\"\"},\"colorscale\":[[0.0,\"#0d0887\"],[0.1111111111111111,\"#46039f\"],[0.2222222222222222,\"#7201a8\"],[0.3333333333333333,\"#9c179e\"],[0.4444444444444444,\"#bd3786\"],[0.5555555555555556,\"#d8576b\"],[0.6666666666666666,\"#ed7953\"],[0.7777777777777778,\"#fb9f3a\"],[0.8888888888888888,\"#fdca26\"],[1.0,\"#f0f921\"]]}],\"mesh3d\":[{\"type\":\"mesh3d\",\"colorbar\":{\"outlinewidth\":0,\"ticks\":\"\"}}],\"scatter\":[{\"fillpattern\":{\"fillmode\":\"overlay\",\"size\":10,\"solidity\":0.2},\"type\":\"scatter\"}],\"parcoords\":[{\"type\":\"parcoords\",\"line\":{\"colorbar\":{\"outlinewidth\":0,\"ticks\":\"\"}}}],\"scatterpolargl\":[{\"type\":\"scatterpolargl\",\"marker\":{\"colorbar\":{\"outlinewidth\":0,\"ticks\":\"\"}}}],\"bar\":[{\"error_x\":{\"color\":\"#2a3f5f\"},\"error_y\":{\"color\":\"#2a3f5f\"},\"marker\":{\"line\":{\"color\":\"#E5ECF6\",\"width\":0.5},\"pattern\":{\"fillmode\":\"overlay\",\"size\":10,\"solidity\":0.2}},\"type\":\"bar\"}],\"scattergeo\":[{\"type\":\"scattergeo\",\"marker\":{\"colorbar\":{\"outlinewidth\":0,\"ticks\":\"\"}}}],\"scatterpolar\":[{\"type\":\"scatterpolar\",\"marker\":{\"colorbar\":{\"outlinewidth\":0,\"ticks\":\"\"}}}],\"histogram\":[{\"marker\":{\"pattern\":{\"fillmode\":\"overlay\",\"size\":10,\"solidity\":0.2}},\"type\":\"histogram\"}],\"scattergl\":[{\"type\":\"scattergl\",\"marker\":{\"colorbar\":{\"outlinewidth\":0,\"ticks\":\"\"}}}],\"scatter3d\":[{\"type\":\"scatter3d\",\"line\":{\"colorbar\":{\"outlinewidth\":0,\"ticks\":\"\"}},\"marker\":{\"colorbar\":{\"outlinewidth\":0,\"ticks\":\"\"}}}],\"scattermapbox\":[{\"type\":\"scattermapbox\",\"marker\":{\"colorbar\":{\"outlinewidth\":0,\"ticks\":\"\"}}}],\"scatterternary\":[{\"type\":\"scatterternary\",\"marker\":{\"colorbar\":{\"outlinewidth\":0,\"ticks\":\"\"}}}],\"scattercarpet\":[{\"type\":\"scattercarpet\",\"marker\":{\"colorbar\":{\"outlinewidth\":0,\"ticks\":\"\"}}}],\"carpet\":[{\"aaxis\":{\"endlinecolor\":\"#2a3f5f\",\"gridcolor\":\"white\",\"linecolor\":\"white\",\"minorgridcolor\":\"white\",\"startlinecolor\":\"#2a3f5f\"},\"baxis\":{\"endlinecolor\":\"#2a3f5f\",\"gridcolor\":\"white\",\"linecolor\":\"white\",\"minorgridcolor\":\"white\",\"startlinecolor\":\"#2a3f5f\"},\"type\":\"carpet\"}],\"table\":[{\"cells\":{\"fill\":{\"color\":\"#EBF0F8\"},\"line\":{\"color\":\"white\"}},\"header\":{\"fill\":{\"color\":\"#C8D4E3\"},\"line\":{\"color\":\"white\"}},\"type\":\"table\"}],\"barpolar\":[{\"marker\":{\"line\":{\"color\":\"#E5ECF6\",\"width\":0.5},\"pattern\":{\"fillmode\":\"overlay\",\"size\":10,\"solidity\":0.2}},\"type\":\"barpolar\"}],\"pie\":[{\"automargin\":true,\"type\":\"pie\"}]},\"layout\":{\"autotypenumbers\":\"strict\",\"colorway\":[\"#636efa\",\"#EF553B\",\"#00cc96\",\"#ab63fa\",\"#FFA15A\",\"#19d3f3\",\"#FF6692\",\"#B6E880\",\"#FF97FF\",\"#FECB52\"],\"font\":{\"color\":\"#2a3f5f\"},\"hovermode\":\"closest\",\"hoverlabel\":{\"align\":\"left\"},\"paper_bgcolor\":\"white\",\"plot_bgcolor\":\"#E5ECF6\",\"polar\":{\"bgcolor\":\"#E5ECF6\",\"angularaxis\":{\"gridcolor\":\"white\",\"linecolor\":\"white\",\"ticks\":\"\"},\"radialaxis\":{\"gridcolor\":\"white\",\"linecolor\":\"white\",\"ticks\":\"\"}},\"ternary\":{\"bgcolor\":\"#E5ECF6\",\"aaxis\":{\"gridcolor\":\"white\",\"linecolor\":\"white\",\"ticks\":\"\"},\"baxis\":{\"gridcolor\":\"white\",\"linecolor\":\"white\",\"ticks\":\"\"},\"caxis\":{\"gridcolor\":\"white\",\"linecolor\":\"white\",\"ticks\":\"\"}},\"coloraxis\":{\"colorbar\":{\"outlinewidth\":0,\"ticks\":\"\"}},\"colorscale\":{\"sequential\":[[0.0,\"#0d0887\"],[0.1111111111111111,\"#46039f\"],[0.2222222222222222,\"#7201a8\"],[0.3333333333333333,\"#9c179e\"],[0.4444444444444444,\"#bd3786\"],[0.5555555555555556,\"#d8576b\"],[0.6666666666666666,\"#ed7953\"],[0.7777777777777778,\"#fb9f3a\"],[0.8888888888888888,\"#fdca26\"],[1.0,\"#f0f921\"]],\"sequentialminus\":[[0.0,\"#0d0887\"],[0.1111111111111111,\"#46039f\"],[0.2222222222222222,\"#7201a8\"],[0.3333333333333333,\"#9c179e\"],[0.4444444444444444,\"#bd3786\"],[0.5555555555555556,\"#d8576b\"],[0.6666666666666666,\"#ed7953\"],[0.7777777777777778,\"#fb9f3a\"],[0.8888888888888888,\"#fdca26\"],[1.0,\"#f0f921\"]],\"diverging\":[[0,\"#8e0152\"],[0.1,\"#c51b7d\"],[0.2,\"#de77ae\"],[0.3,\"#f1b6da\"],[0.4,\"#fde0ef\"],[0.5,\"#f7f7f7\"],[0.6,\"#e6f5d0\"],[0.7,\"#b8e186\"],[0.8,\"#7fbc41\"],[0.9,\"#4d9221\"],[1,\"#276419\"]]},\"xaxis\":{\"gridcolor\":\"white\",\"linecolor\":\"white\",\"ticks\":\"\",\"title\":{\"standoff\":15},\"zerolinecolor\":\"white\",\"automargin\":true,\"zerolinewidth\":2},\"yaxis\":{\"gridcolor\":\"white\",\"linecolor\":\"white\",\"ticks\":\"\",\"title\":{\"standoff\":15},\"zerolinecolor\":\"white\",\"automargin\":true,\"zerolinewidth\":2},\"scene\":{\"xaxis\":{\"backgroundcolor\":\"#E5ECF6\",\"gridcolor\":\"white\",\"linecolor\":\"white\",\"showbackground\":true,\"ticks\":\"\",\"zerolinecolor\":\"white\",\"gridwidth\":2},\"yaxis\":{\"backgroundcolor\":\"#E5ECF6\",\"gridcolor\":\"white\",\"linecolor\":\"white\",\"showbackground\":true,\"ticks\":\"\",\"zerolinecolor\":\"white\",\"gridwidth\":2},\"zaxis\":{\"backgroundcolor\":\"#E5ECF6\",\"gridcolor\":\"white\",\"linecolor\":\"white\",\"showbackground\":true,\"ticks\":\"\",\"zerolinecolor\":\"white\",\"gridwidth\":2}},\"shapedefaults\":{\"line\":{\"color\":\"#2a3f5f\"}},\"annotationdefaults\":{\"arrowcolor\":\"#2a3f5f\",\"arrowhead\":0,\"arrowwidth\":1},\"geo\":{\"bgcolor\":\"white\",\"landcolor\":\"#E5ECF6\",\"subunitcolor\":\"white\",\"showland\":true,\"showlakes\":true,\"lakecolor\":\"white\"},\"title\":{\"x\":0.05},\"mapbox\":{\"style\":\"light\"}}},\"xaxis\":{\"anchor\":\"y\",\"domain\":[0.0,1.0],\"title\":{\"text\":\"Language\"},\"categoryorder\":\"array\",\"categoryarray\":[\"English\",\"French\",\"Spanish\",\"Portugeese\",\"Italian\",\"Russian\",\"Sweedish\",\"Malayalam\",\"Dutch\",\"Arabic\",\"Turkish\",\"German\",\"Tamil\",\"Danish\",\"Kannada\",\"Greek\",\"Hindi\"]},\"yaxis\":{\"anchor\":\"x\",\"domain\":[0.0,1.0],\"title\":{\"text\":\"Count\"}},\"legend\":{\"title\":{\"text\":\"index\"},\"tracegroupgap\":0},\"margin\":{\"t\":60},\"barmode\":\"relative\",\"title\":{\"text\":\"Language Distribution\"},\"showlegend\":false},                        {\"responsive\": true}                    ).then(function(){\n",
              "                            \n",
              "var gd = document.getElementById('b82692b7-bc29-4425-a48c-f26e46ce024a');\n",
              "var x = new MutationObserver(function (mutations, observer) {{\n",
              "        var display = window.getComputedStyle(gd).display;\n",
              "        if (!display || display === 'none') {{\n",
              "            console.log([gd, 'removed!']);\n",
              "            Plotly.purge(gd);\n",
              "            observer.disconnect();\n",
              "        }}\n",
              "}});\n",
              "\n",
              "// Listen for the removal of the full notebook cells\n",
              "var notebookContainer = gd.closest('#notebook-container');\n",
              "if (notebookContainer) {{\n",
              "    x.observe(notebookContainer, {childList: true});\n",
              "}}\n",
              "\n",
              "// Listen for the clearing of the current output cell\n",
              "var outputEl = gd.closest('.output');\n",
              "if (outputEl) {{\n",
              "    x.observe(outputEl, {childList: true});\n",
              "}}\n",
              "\n",
              "                        })                };                            </script>        </div>\n",
              "</body>\n",
              "</html>"
            ]
          },
          "metadata": {}
        }
      ]
    },
    {
      "cell_type": "markdown",
      "source": [
        "## Split data"
      ],
      "metadata": {
        "id": "btFw_PT1LRpC"
      }
    },
    {
      "cell_type": "code",
      "source": [
        "# Get the text and language columns\n",
        "text = lan_data[\"Text\"]\n",
        "language = lan_data[\"Language\"]"
      ],
      "metadata": {
        "id": "hsP9VhbmwBni"
      },
      "execution_count": 26,
      "outputs": []
    },
    {
      "cell_type": "markdown",
      "source": [
        "## Create a model Pipiline"
      ],
      "metadata": {
        "id": "0Fdq5mUZMJSs"
      }
    },
    {
      "cell_type": "code",
      "source": [
        "# Create a pipeline with TfidfVectorizer and MultinomialNB\n",
        "pipeline = Pipeline([\n",
        "    ('tfidf', TfidfVectorizer()),  # Use TfidfVectorizer instead of CountVectorizer\n",
        "    ('clf', MultinomialNB())\n",
        "])"
      ],
      "metadata": {
        "id": "dz-3aLCMwDSc"
      },
      "execution_count": 11,
      "outputs": []
    },
    {
      "cell_type": "markdown",
      "source": [
        "## Model performance"
      ],
      "metadata": {
        "id": "VqWx8ah9McbI"
      }
    },
    {
      "cell_type": "code",
      "source": [
        "# Perform cross-validation to assess model performance\n",
        "cv_scores = cross_val_score(pipeline, text, language, cv=10)  # 10-fold cross-validation"
      ],
      "metadata": {
        "id": "1M1KeAHTwFHq"
      },
      "execution_count": 27,
      "outputs": []
    },
    {
      "cell_type": "code",
      "source": [
        "# Print the cross-validation scores\n",
        "print(\"Cross-validation scores:\", cv_scores)\n",
        "print(\"Mean CV score:\", cv_scores.mean())"
      ],
      "metadata": {
        "colab": {
          "base_uri": "https://localhost:8080/"
        },
        "id": "YbJuMhzrwMpR",
        "outputId": "5dd57c7b-9b66-4f59-ce50-eeb2d12ea6b1"
      },
      "execution_count": 29,
      "outputs": [
        {
          "output_type": "stream",
          "name": "stdout",
          "text": [
            "Cross-validation scores: [0.96518375 0.97969052 0.97775629 0.98259188 0.9729207  0.95551257\n",
            " 0.94003868 0.8857696  0.90029042 0.9767667 ]\n",
            "Mean CV score: 0.9536521109011892\n"
          ]
        }
      ]
    },
    {
      "cell_type": "markdown",
      "source": [
        "## Train the pipeline"
      ],
      "metadata": {
        "id": "gj5cGm1lMtl8"
      }
    },
    {
      "cell_type": "code",
      "source": [
        "# Train the pipeline on the entire dataset\n",
        "pipeline.fit(text, language)"
      ],
      "metadata": {
        "colab": {
          "base_uri": "https://localhost:8080/",
          "height": 126
        },
        "id": "qA43piurwQEy",
        "outputId": "754c012c-4809-404a-c28e-ceb0589c2ef6"
      },
      "execution_count": 15,
      "outputs": [
        {
          "output_type": "execute_result",
          "data": {
            "text/plain": [
              "Pipeline(steps=[('tfidf', TfidfVectorizer()), ('clf', MultinomialNB())])"
            ],
            "text/html": [
              "<style>#sk-container-id-1 {color: black;background-color: white;}#sk-container-id-1 pre{padding: 0;}#sk-container-id-1 div.sk-toggleable {background-color: white;}#sk-container-id-1 label.sk-toggleable__label {cursor: pointer;display: block;width: 100%;margin-bottom: 0;padding: 0.3em;box-sizing: border-box;text-align: center;}#sk-container-id-1 label.sk-toggleable__label-arrow:before {content: \"▸\";float: left;margin-right: 0.25em;color: #696969;}#sk-container-id-1 label.sk-toggleable__label-arrow:hover:before {color: black;}#sk-container-id-1 div.sk-estimator:hover label.sk-toggleable__label-arrow:before {color: black;}#sk-container-id-1 div.sk-toggleable__content {max-height: 0;max-width: 0;overflow: hidden;text-align: left;background-color: #f0f8ff;}#sk-container-id-1 div.sk-toggleable__content pre {margin: 0.2em;color: black;border-radius: 0.25em;background-color: #f0f8ff;}#sk-container-id-1 input.sk-toggleable__control:checked~div.sk-toggleable__content {max-height: 200px;max-width: 100%;overflow: auto;}#sk-container-id-1 input.sk-toggleable__control:checked~label.sk-toggleable__label-arrow:before {content: \"▾\";}#sk-container-id-1 div.sk-estimator input.sk-toggleable__control:checked~label.sk-toggleable__label {background-color: #d4ebff;}#sk-container-id-1 div.sk-label input.sk-toggleable__control:checked~label.sk-toggleable__label {background-color: #d4ebff;}#sk-container-id-1 input.sk-hidden--visually {border: 0;clip: rect(1px 1px 1px 1px);clip: rect(1px, 1px, 1px, 1px);height: 1px;margin: -1px;overflow: hidden;padding: 0;position: absolute;width: 1px;}#sk-container-id-1 div.sk-estimator {font-family: monospace;background-color: #f0f8ff;border: 1px dotted black;border-radius: 0.25em;box-sizing: border-box;margin-bottom: 0.5em;}#sk-container-id-1 div.sk-estimator:hover {background-color: #d4ebff;}#sk-container-id-1 div.sk-parallel-item::after {content: \"\";width: 100%;border-bottom: 1px solid gray;flex-grow: 1;}#sk-container-id-1 div.sk-label:hover label.sk-toggleable__label {background-color: #d4ebff;}#sk-container-id-1 div.sk-serial::before {content: \"\";position: absolute;border-left: 1px solid gray;box-sizing: border-box;top: 0;bottom: 0;left: 50%;z-index: 0;}#sk-container-id-1 div.sk-serial {display: flex;flex-direction: column;align-items: center;background-color: white;padding-right: 0.2em;padding-left: 0.2em;position: relative;}#sk-container-id-1 div.sk-item {position: relative;z-index: 1;}#sk-container-id-1 div.sk-parallel {display: flex;align-items: stretch;justify-content: center;background-color: white;position: relative;}#sk-container-id-1 div.sk-item::before, #sk-container-id-1 div.sk-parallel-item::before {content: \"\";position: absolute;border-left: 1px solid gray;box-sizing: border-box;top: 0;bottom: 0;left: 50%;z-index: -1;}#sk-container-id-1 div.sk-parallel-item {display: flex;flex-direction: column;z-index: 1;position: relative;background-color: white;}#sk-container-id-1 div.sk-parallel-item:first-child::after {align-self: flex-end;width: 50%;}#sk-container-id-1 div.sk-parallel-item:last-child::after {align-self: flex-start;width: 50%;}#sk-container-id-1 div.sk-parallel-item:only-child::after {width: 0;}#sk-container-id-1 div.sk-dashed-wrapped {border: 1px dashed gray;margin: 0 0.4em 0.5em 0.4em;box-sizing: border-box;padding-bottom: 0.4em;background-color: white;}#sk-container-id-1 div.sk-label label {font-family: monospace;font-weight: bold;display: inline-block;line-height: 1.2em;}#sk-container-id-1 div.sk-label-container {text-align: center;}#sk-container-id-1 div.sk-container {/* jupyter's `normalize.less` sets `[hidden] { display: none; }` but bootstrap.min.css set `[hidden] { display: none !important; }` so we also need the `!important` here to be able to override the default hidden behavior on the sphinx rendered scikit-learn.org. See: https://github.com/scikit-learn/scikit-learn/issues/21755 */display: inline-block !important;position: relative;}#sk-container-id-1 div.sk-text-repr-fallback {display: none;}</style><div id=\"sk-container-id-1\" class=\"sk-top-container\"><div class=\"sk-text-repr-fallback\"><pre>Pipeline(steps=[(&#x27;tfidf&#x27;, TfidfVectorizer()), (&#x27;clf&#x27;, MultinomialNB())])</pre><b>In a Jupyter environment, please rerun this cell to show the HTML representation or trust the notebook. <br />On GitHub, the HTML representation is unable to render, please try loading this page with nbviewer.org.</b></div><div class=\"sk-container\" hidden><div class=\"sk-item sk-dashed-wrapped\"><div class=\"sk-label-container\"><div class=\"sk-label sk-toggleable\"><input class=\"sk-toggleable__control sk-hidden--visually\" id=\"sk-estimator-id-1\" type=\"checkbox\" ><label for=\"sk-estimator-id-1\" class=\"sk-toggleable__label sk-toggleable__label-arrow\">Pipeline</label><div class=\"sk-toggleable__content\"><pre>Pipeline(steps=[(&#x27;tfidf&#x27;, TfidfVectorizer()), (&#x27;clf&#x27;, MultinomialNB())])</pre></div></div></div><div class=\"sk-serial\"><div class=\"sk-item\"><div class=\"sk-estimator sk-toggleable\"><input class=\"sk-toggleable__control sk-hidden--visually\" id=\"sk-estimator-id-2\" type=\"checkbox\" ><label for=\"sk-estimator-id-2\" class=\"sk-toggleable__label sk-toggleable__label-arrow\">TfidfVectorizer</label><div class=\"sk-toggleable__content\"><pre>TfidfVectorizer()</pre></div></div></div><div class=\"sk-item\"><div class=\"sk-estimator sk-toggleable\"><input class=\"sk-toggleable__control sk-hidden--visually\" id=\"sk-estimator-id-3\" type=\"checkbox\" ><label for=\"sk-estimator-id-3\" class=\"sk-toggleable__label sk-toggleable__label-arrow\">MultinomialNB</label><div class=\"sk-toggleable__content\"><pre>MultinomialNB()</pre></div></div></div></div></div></div></div>"
            ]
          },
          "metadata": {},
          "execution_count": 15
        }
      ]
    },
    {
      "cell_type": "markdown",
      "source": [
        "## Now predict Language"
      ],
      "metadata": {
        "id": "U_BJT5BDMyDd"
      }
    },
    {
      "cell_type": "code",
      "source": [
        "# Get the user input\n",
        "user_input = input(\"Enter a text: \")\n",
        "\n",
        "# Predict the language of the user input\n",
        "predicted_language = pipeline.predict([user_input])\n",
        "\n",
        "# Print the predicted language\n",
        "print(\"Predicted language:\", predicted_language)"
      ],
      "metadata": {
        "colab": {
          "base_uri": "https://localhost:8080/"
        },
        "id": "I8nFuWrIwZm4",
        "outputId": "1b6c7f65-d036-4465-c1bd-36a8c7b0a677"
      },
      "execution_count": 16,
      "outputs": [
        {
          "output_type": "stream",
          "name": "stdout",
          "text": [
            "Enter a text: Wie ben je\n",
            "Predicted language: ['Dutch']\n"
          ]
        }
      ]
    },
    {
      "cell_type": "code",
      "source": [],
      "metadata": {
        "id": "lq5vCX4awekF"
      },
      "execution_count": null,
      "outputs": []
    }
  ]
}